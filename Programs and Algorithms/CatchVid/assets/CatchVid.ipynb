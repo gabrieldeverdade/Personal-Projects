{
  "nbformat": 4,
  "nbformat_minor": 0,
  "metadata": {
    "colab": {
      "provenance": []
    },
    "kernelspec": {
      "name": "python3",
      "display_name": "Python 3"
    },
    "language_info": {
      "name": "python"
    }
  },
  "cells": [
    {
      "cell_type": "markdown",
      "source": [
        "## **CatchVid - Download Vídeos from Youtube**"
      ],
      "metadata": {
        "id": "h7GmO3DLyHI2"
      }
    },
    {
      "cell_type": "markdown",
      "source": [
        "Here’s a simple and straightforward tool for you if you want to download videos or Audio-Only from YouTube:\n",
        "\n",
        "Uma ferramenta simples pra você que quer baixar vídeos e áudios do Youtube:\n",
        "\n",
        "With **CatchVid** you can:\n",
        "- Download Vídeo\n",
        "- Download Only Audio (.mp3)\n",
        "- Download Only Video\n",
        "- Both Video and Audio - Separeted Archives\n",
        "\n",
        "More Updates Soon!\n",
        "\n",
        "**IMPORTANT**:: You can change the resolution according to the video you're going to download, so if the video quality is higher than 1080p, don't forget to change it in *choose_resolutioin* !\n",
        "\n"
      ],
      "metadata": {
        "id": "kvtkM5DiyLJI"
      }
    },
    {
      "cell_type": "markdown",
      "source": [
        "---"
      ],
      "metadata": {
        "id": "Xh83dzlRqX8z"
      }
    },
    {
      "cell_type": "code",
      "source": [
        "# @title **Start CatchVid - Download Video**\n",
        "!pip install pytubefix -q  # Instala pytubefix\n",
        "!apt-get install ffmpeg -y -qq  # Instala ffmpeg\n",
        "\n",
        "import os\n",
        "import re\n",
        "from pytubefix.cli import on_progress\n",
        "from pytubefix import YouTube\n",
        "from IPython.display import clear_output\n",
        "from google.colab import files\n",
        "\n",
        "# URL do vídeo\n",
        "video_url = \"\"  # @param {type:\"string\"}\n",
        "choose_resolution = '1080p'  # @param {type:\"string\"}\n",
        "\n",
        "yt = YouTube(video_url, on_progress_callback=on_progress)\n",
        "\n",
        "# 🔹 Limpa e ajusta o nome do vídeo para evitar problemas em sistemas de arquivos\n",
        "def sanitize_filename(filename):\n",
        "    return re.sub(r'[\\/:*?\"<>|]', '', filename).strip()\n",
        "\n",
        "video_title = sanitize_filename(yt.title)  # Nome do vídeo original\n",
        "video_filename = f\"{video_title}.mp4\"\n",
        "audio_filename = f\"{video_title}.mp3\"\n",
        "output_filename = f\"{video_title}_Final.mp4\"  # Nome do arquivo final\n",
        "\n",
        "# 🔹 Download Áudio\n",
        "audio_stream = yt.streams.get_audio_only()\n",
        "audio_stream.download(filename=audio_filename)\n",
        "\n",
        "# 🔹 Download Vídeo\n",
        "video_stream = yt.streams.filter(res=choose_resolution, file_extension='mp4').first()\n",
        "if video_stream:\n",
        "    video_stream.download(filename=video_filename)\n",
        "\n",
        "    clear_output(wait=True)  # Limpa a saída do Colab\n",
        "    print(\"🔄 Processando vídeo...\")\n",
        "\n",
        "    # 🔹 Combinar vídeo e áudio com FFmpeg (e garantir compatibilidade)\n",
        "    os.system(f\"ffmpeg -i '{video_filename}' -i '{audio_filename}' -c:v copy -c:a aac -b:a 192k -strict experimental '{output_filename}' -loglevel error\")\n",
        "\n",
        "    # 🔹 Download do arquivo final\n",
        "    files.download(output_filename)\n",
        "\n",
        "    # 🔹 Remover arquivos temporários para economizar espaço\n",
        "    os.remove(video_filename)\n",
        "    os.remove(audio_filename)\n",
        "\n",
        "    print(\"✅ Download concluído!\")\n",
        "else:\n",
        "    print(\"❌ Erro: Nenhum vídeo encontrado na resolução selecionada.\")\n"
      ],
      "metadata": {
        "cellView": "form",
        "id": "z4kFWgtigBmh"
      },
      "execution_count": null,
      "outputs": []
    },
    {
      "cell_type": "markdown",
      "source": [
        "---"
      ],
      "metadata": {
        "id": "NPONHLvNqGuJ"
      }
    },
    {
      "cell_type": "markdown",
      "source": [
        "## **Extra**"
      ],
      "metadata": {
        "id": "1GNbqsNdqqe_"
      }
    },
    {
      "cell_type": "code",
      "source": [
        "# @title **Download Only Audio 🔊 (.mp3)**\n",
        "!pip install pytubefix -q  # Instala pytubefix silenciosamente\n",
        "!apt-get install ffmpeg -y -qq  # Assegura que o FFmpeg está instalado\n",
        "\n",
        "import re\n",
        "from pytubefix import YouTube\n",
        "from pytubefix.cli import on_progress\n",
        "from google.colab import files\n",
        "\n",
        "def sanitize_filename(filename):\n",
        "    \"\"\"Remove caracteres especiais e espaços desnecessários do nome do arquivo.\"\"\"\n",
        "    return re.sub(r'[\\/:*?\"<>|]', '', filename).strip()\n",
        "\n",
        "video_url = \"\"  # @param {type:\"string\"}\n",
        "yt = YouTube(video_url, on_progress_callback=on_progress)\n",
        "video_title = sanitize_filename(yt.title)\n",
        "\n",
        "audio_stream = yt.streams.get_audio_only()\n",
        "if audio_stream:\n",
        "    audio_filename = f\"{video_title}.mp3\"\n",
        "    audio_stream.download(filename=audio_filename)\n",
        "    print(f\"✅ Download do áudio '{video_title}.mp3' concluído!\")\n",
        "    files.download(audio_filename)\n",
        "else:\n",
        "    print(\"❌ Áudio não disponível.\")\n",
        "\n"
      ],
      "metadata": {
        "cellView": "form",
        "id": "Bjj5JVxPr9TA"
      },
      "execution_count": null,
      "outputs": []
    },
    {
      "cell_type": "markdown",
      "source": [
        "---"
      ],
      "metadata": {
        "id": "NO7M59awt3gF"
      }
    },
    {
      "cell_type": "code",
      "source": [
        "# @title **Download Only Video 🎥🔇**\n",
        "!pip install pytubefix -q  # Instala pytubefix silenciosamente\n",
        "\n",
        "import re\n",
        "from pytubefix import YouTube\n",
        "from pytubefix.cli import on_progress\n",
        "from google.colab import files\n",
        "\n",
        "def sanitize_filename(filename):\n",
        "    \"\"\"Remove caracteres especiais e espaços desnecessários do nome do arquivo.\"\"\"\n",
        "    return re.sub(r'[\\/:*?\"<>|]', '', filename).strip()\n",
        "\n",
        "# Inserir URL do vídeo\n",
        "video_url = \"\" # @param {type:\"string\"}\n",
        "\n",
        "# Mudar resolução de acordo com o vídeo\n",
        "choose_resolution = \"1080p\" # @param {\"type\":\"string\"}\n",
        "\n",
        "yt = YouTube(video_url, on_progress_callback=on_progress)\n",
        "video_title = sanitize_filename(yt.title)\n",
        "\n",
        "# Filtra e seleciona o stream de vídeo na resolução desejada\n",
        "video_stream = yt.streams.filter(res=choose_resolution, file_extension='mp4').first()\n",
        "if video_stream:\n",
        "    video_filename = f\"{video_title}.mp4\"\n",
        "    video_stream.download(filename=video_filename)\n",
        "    print(f\"✅ Download do vídeo '{video_filename}' concluído!\")\n",
        "    files.download(video_filename)  # Faz o download do arquivo para o computador do usuário\n",
        "else:\n",
        "    print(f\"❌ Erro: Vídeo não encontrado na resolução {choose_resolution}.\")\n"
      ],
      "metadata": {
        "cellView": "form",
        "id": "CkfQIqcFtpuL"
      },
      "execution_count": null,
      "outputs": []
    },
    {
      "cell_type": "markdown",
      "source": [
        "---"
      ],
      "metadata": {
        "id": "xuRNpqgJt6lo"
      }
    },
    {
      "cell_type": "code",
      "source": [
        "# @title **Both Video and Audio - Separated Archives**\n",
        "!pip install pytubefix -q  # Instala pytubefix silenciosamente\n",
        "\n",
        "import re\n",
        "from pytubefix import YouTube\n",
        "from pytubefix.cli import on_progress\n",
        "from google.colab import files\n",
        "\n",
        "def sanitize_filename(filename):\n",
        "    \"\"\"Remove caracteres especiais e espaços desnecessários do nome do arquivo.\"\"\"\n",
        "    return re.sub(r'[\\/:*?\"<>|]', '', filename).strip()\n",
        "\n",
        "# Inserir URL do vídeo\n",
        "video_url = \"\"  # @param {type:\"string\"}\n",
        "\n",
        "# Mudar resolução de acordo com o vídeo\n",
        "choose_resolution = '1080p'  # @param {type:\"string\"}\n",
        "\n",
        "yt = YouTube(video_url, on_progress_callback=on_progress)\n",
        "\n",
        "# Obter e limpar o título do vídeo para usar como nome de arquivo\n",
        "video_title = sanitize_filename(yt.title)\n",
        "\n",
        "# Download Áudio\n",
        "audio_stream = yt.streams.get_audio_only()\n",
        "audio_filename = f\"{video_title}_audio.mp3\"  # Define o nome do arquivo de áudio com o título do vídeo\n",
        "if audio_stream:\n",
        "    audio_stream.download(filename=audio_filename)\n",
        "    print(f\"✅ Download do áudio '{audio_filename}' concluído!\")\n",
        "    files.download(audio_filename)  # Inicia o download do arquivo para o computador do usuário\n",
        "else:\n",
        "    print(\"❌ Áudio não disponível.\")\n",
        "\n",
        "# Download Vídeo\n",
        "video_stream = yt.streams.filter(res=choose_resolution, file_extension='mp4').first()\n",
        "if video_stream:\n",
        "    video_filename = f\"{video_title}_video.mp4\"  # Define o nome do arquivo de vídeo com o título do vídeo\n",
        "    video_stream.download(filename=video_filename)\n",
        "    print(f\"✅ Download do vídeo '{video_filename}' concluído em {video_stream.resolution}!\")\n",
        "    files.download(video_filename)  # Inicia o download do arquivo para o computador do usuário\n",
        "else:\n",
        "    print(\"❌ Vídeo não encontrado na resolução selecionada.\")\n",
        "\n"
      ],
      "metadata": {
        "cellView": "form",
        "id": "smZwbCOVSVjH"
      },
      "execution_count": null,
      "outputs": []
    }
  ]
}